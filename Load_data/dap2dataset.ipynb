{
 "cells": [
  {
   "cell_type": "code",
   "execution_count": 1,
   "id": "01534cc8",
   "metadata": {},
   "outputs": [],
   "source": [
    "from pymongo import MongoClient\n",
    "client = MongoClient(\"mongodb://%s:%s@127.0.0.1\" % (\"dap\", \"dap\"))"
   ]
  },
  {
   "cell_type": "code",
   "execution_count": 2,
   "id": "d6c8feae",
   "metadata": {},
   "outputs": [],
   "source": [
    "db = client['drugdb1']"
   ]
  },
  {
   "cell_type": "code",
   "execution_count": 3,
   "id": "5d9ebb90",
   "metadata": {},
   "outputs": [],
   "source": [
    "collection = db['drug_desc']"
   ]
  },
  {
   "cell_type": "code",
   "execution_count": 4,
   "id": "0822d51c",
   "metadata": {},
   "outputs": [
    {
     "name": "stdout",
     "output_type": "stream",
     "text": [
      "Requirement already satisfied: requests in c:\\users\\test\\anaconda3\\lib\\site-packages (2.31.0)\n",
      "Requirement already satisfied: pymongo in c:\\users\\test\\anaconda3\\lib\\site-packages (3.12.0)\n",
      "Requirement already satisfied: charset-normalizer<4,>=2 in c:\\users\\test\\anaconda3\\lib\\site-packages (from requests) (2.0.4)\n",
      "Requirement already satisfied: idna<4,>=2.5 in c:\\users\\test\\anaconda3\\lib\\site-packages (from requests) (3.4)\n",
      "Requirement already satisfied: urllib3<3,>=1.21.1 in c:\\users\\test\\anaconda3\\lib\\site-packages (from requests) (1.26.16)\n",
      "Requirement already satisfied: certifi>=2017.4.17 in c:\\users\\test\\anaconda3\\lib\\site-packages (from requests) (2023.11.17)\n",
      "Note: you may need to restart the kernel to use updated packages.\n"
     ]
    }
   ],
   "source": [
    "pip install requests pymongo\n"
   ]
  },
  {
   "cell_type": "code",
   "execution_count": 6,
   "id": "f31bdf18",
   "metadata": {},
   "outputs": [],
   "source": [
    "import json\n",
    "import requests\n",
    "\n",
    "\n",
    "\n",
    "database_name = \"drugdb1\"\n",
    "collection_name = \"drugdb1\"\n",
    "\n",
    "\n",
    "\n",
    "\n",
    "\n",
    "api_url = \"https://healthdata.demo.socrata.com/resource/jaa8-k3k2.json\"\n",
    "\n",
    "\n",
    "client = MongoClient(\"mongodb://%s:%s@127.0.0.1\" % (\"dap\", \"dap\"))\n",
    "db = client[database_name]\n",
    "collection = db[collection_name]\n",
    "\n",
    "# Fetch data from the API\n",
    "response = requests.get(api_url)\n",
    "\n",
    "if response.status_code == 200:\n",
    "    # Parse JSON data\n",
    "    data = response.json()\n",
    "\n",
    "    # Insert data into MongoDB\n",
    "    collection.insert_many(data)\n",
    "\n",
    "\n"
   ]
  },
  {
   "cell_type": "code",
   "execution_count": null,
   "id": "b077d6f9",
   "metadata": {},
   "outputs": [],
   "source": []
  }
 ],
 "metadata": {
  "kernelspec": {
   "display_name": "Python 3 (ipykernel)",
   "language": "python",
   "name": "python3"
  },
  "language_info": {
   "codemirror_mode": {
    "name": "ipython",
    "version": 3
   },
   "file_extension": ".py",
   "mimetype": "text/x-python",
   "name": "python",
   "nbconvert_exporter": "python",
   "pygments_lexer": "ipython3",
   "version": "3.11.5"
  }
 },
 "nbformat": 4,
 "nbformat_minor": 5
}
