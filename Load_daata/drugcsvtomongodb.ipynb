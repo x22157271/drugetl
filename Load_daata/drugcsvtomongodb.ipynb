{
 "cells": [
  {
   "cell_type": "code",
   "execution_count": 12,
   "id": "6528652f",
   "metadata": {},
   "outputs": [],
   "source": [
    "import pandas as pd\n",
    "from pymongo import MongoClient\n",
    "client = MongoClient(\"mongodb://%s:%s@127.0.0.1\" % (\"dap\", \"dap\"))"
   ]
  },
  {
   "cell_type": "code",
   "execution_count": 13,
   "id": "f526231c",
   "metadata": {},
   "outputs": [],
   "source": [
    "db = client['drugcsv']"
   ]
  },
  {
   "cell_type": "code",
   "execution_count": 14,
   "id": "36151ede",
   "metadata": {},
   "outputs": [],
   "source": [
    "collection = db['drugrating']"
   ]
  },
  {
   "cell_type": "code",
   "execution_count": 15,
   "id": "aa4b4055",
   "metadata": {},
   "outputs": [],
   "source": [
    "database_name = \"drugcsv\"\n",
    "collection_name = \"drugrating\"\n",
    "\n",
    "\n",
    "\n",
    "client = MongoClient(\"mongodb://%s:%s@127.0.0.1\" % (\"dap\", \"dap\"))\n",
    "db = client[database_name]\n",
    "collection = db[collection_name]\n",
    "csv_file_path = 'Drug.csv'\n",
    "df = pd.read_csv(csv_file_path)\n",
    "\n",
    "# Convert DataFrame to a list of dictionaries\n",
    "records = df.to_dict(orient='records')\n",
    "\n",
    "# Insert data into MongoDB collection\n",
    "collection.insert_many(records)\n",
    "\n",
    "# Close the MongoDB connection\n",
    "client.close()\n",
    "\n",
    "\n",
    "\n"
   ]
  },
  {
   "cell_type": "code",
   "execution_count": null,
   "id": "101539ee",
   "metadata": {},
   "outputs": [],
   "source": []
  }
 ],
 "metadata": {
  "kernelspec": {
   "display_name": "Python 3 (ipykernel)",
   "language": "python",
   "name": "python3"
  },
  "language_info": {
   "codemirror_mode": {
    "name": "ipython",
    "version": 3
   },
   "file_extension": ".py",
   "mimetype": "text/x-python",
   "name": "python",
   "nbconvert_exporter": "python",
   "pygments_lexer": "ipython3",
   "version": "3.11.4"
  }
 },
 "nbformat": 4,
 "nbformat_minor": 5
}
