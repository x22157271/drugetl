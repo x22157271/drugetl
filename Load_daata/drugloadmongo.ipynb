{
 "cells": [
  {
   "cell_type": "code",
   "execution_count": 1,
   "id": "9dd174fb",
   "metadata": {},
   "outputs": [],
   "source": [
    "from pymongo import MongoClient\n",
    "client = MongoClient(\"mongodb://%s:%s@127.0.0.1\" % (\"dap\", \"dap\"))"
   ]
  },
  {
   "cell_type": "code",
   "execution_count": 2,
   "id": "6fef0370",
   "metadata": {},
   "outputs": [],
   "source": [
    "db = client['drugdb']"
   ]
  },
  {
   "cell_type": "code",
   "execution_count": 3,
   "id": "9e65afa7",
   "metadata": {},
   "outputs": [],
   "source": [
    "collection = db['drug_rating']"
   ]
  },
  {
   "cell_type": "code",
   "execution_count": 4,
   "id": "c03cc314",
   "metadata": {},
   "outputs": [],
   "source": [
    "import json\n",
    "\n",
    "\n",
    "database_name = \"drugdb\"\n",
    "collection_name = \"drug_rating\"\n",
    "\n",
    "\n",
    "\n",
    "client = MongoClient(\"mongodb://%s:%s@127.0.0.1\" % (\"dap\", \"dap\"))\n",
    "db = client[database_name]\n",
    "collection = db[collection_name]\n",
    "\n",
    "# Load JSON data from file\n",
    "with open('drug_review_test.jsonl', 'r') as f:\n",
    "    for line in f:\n",
    "        json_data = json.loads(line)\n",
    "        # Insert JSON data into MongoDB collection\n",
    "        collection.insert_one(json_data)\n",
    "    \n",
    "\n",
    "\n",
    "\n"
   ]
  },
  {
   "cell_type": "code",
   "execution_count": null,
   "id": "5e6771a5",
   "metadata": {},
   "outputs": [],
   "source": []
  }
 ],
 "metadata": {
  "kernelspec": {
   "display_name": "Python 3 (ipykernel)",
   "language": "python",
   "name": "python3"
  },
  "language_info": {
   "codemirror_mode": {
    "name": "ipython",
    "version": 3
   },
   "file_extension": ".py",
   "mimetype": "text/x-python",
   "name": "python",
   "nbconvert_exporter": "python",
   "pygments_lexer": "ipython3",
   "version": "3.11.5"
  }
 },
 "nbformat": 4,
 "nbformat_minor": 5
}
